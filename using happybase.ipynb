{
 "cells": [
  {
   "cell_type": "code",
   "execution_count": 5,
   "id": "d4e2d3f3",
   "metadata": {},
   "outputs": [],
   "source": [
    "import happybase\n",
    "Connection=happybase.Connection(host='localhost',port=9000)\n",
    "table_name='tweet'\n",
    "table=Connection.table(table_name)"
   ]
  },
  {
   "cell_type": "code",
   "execution_count": 6,
   "id": "9746f2f0",
   "metadata": {},
   "outputs": [],
   "source": [
    "Connection=happybase.Connection(host='localhost',port=9000)"
   ]
  },
  {
   "cell_type": "code",
   "execution_count": 7,
   "id": "5c0dc08c",
   "metadata": {},
   "outputs": [],
   "source": [
    "table_name='tweet'\n",
    "table=Connection.table(table_name)"
   ]
  },
  {
   "cell_type": "code",
   "execution_count": null,
   "id": "ebc8cb1c",
   "metadata": {},
   "outputs": [],
   "source": []
  },
  {
   "cell_type": "code",
   "execution_count": null,
   "id": "33d390ff",
   "metadata": {},
   "outputs": [],
   "source": []
  },
  {
   "cell_type": "code",
   "execution_count": null,
   "id": "f24debc1",
   "metadata": {},
   "outputs": [],
   "source": [
    "import happybase\n",
    "import csv\n",
    "\n",
    "# Establish a connection to HBase\n",
    "connection = happybase.Connection(host='localhost', port=8888)\n",
    "\n",
    "# Specify the name of the table you want to create\n",
    "table_name = 'tweet'\n",
    "\n",
    "# Create the table if it doesn't exist\n",
    "if table_name.encode() not in connection.tables():\n",
    "    connection.create_table(\n",
    "        table_name,\n",
    "        {\n",
    "            'cf': dict(),  # Specify the column family name\n",
    "        }\n",
    "    )\n",
    "\n",
    "# Open the table\n",
    "table = connection.table(table_name)\n",
    "\n",
    "# Read the CSV file and insert its data into HBase\n",
    "csv_file = '/user1/JoeBidenTweets.csv'  # Path to your CSV file\n",
    "\n",
    "with open(csv_file, 'r') as file:\n",
    "    reader = csv.DictReader(file)\n",
    "    for row in reader:\n",
    "        # Extract the relevant columns from the CSV row\n",
    "        tweet_id = row['id']\n",
    "        tweet_text = row['tweet']\n",
    "        likes = row['likes']\n",
    "        replies = row['replies']\n",
    "        quotes = row['quotes']\n",
    "        retweets = row['retweets']\n",
    "\n",
    "        # Insert the data into the HBase table\n",
    "        table.put(\n",
    "            tweet_id.encode(),\n",
    "            {\n",
    "                'cf:tweet_text': tweet_text.encode(),\n",
    "                'cf:likes': likes.encode(),\n",
    "                'cf:replies': replies.encode(),\n",
    "                'cf:quotes': quotes.encode(),\n",
    "                'cf:retweets': retweets.encode()\n",
    "            }\n",
    "        )\n",
    "\n",
    "# Close the connection\n",
    "connection.close()\n"
   ]
  },
  {
   "cell_type": "markdown",
   "id": "262f4d11",
   "metadata": {},
   "source": [
    "# Using pymongo "
   ]
  },
  {
   "cell_type": "code",
   "execution_count": null,
   "id": "e52d1afc",
   "metadata": {},
   "outputs": [],
   "source": [
    "import csv\n",
    "from pymongo import MongoClient\n"
   ]
  },
  {
   "cell_type": "code",
   "execution_count": null,
   "id": "8c85d32c",
   "metadata": {},
   "outputs": [],
   "source": [
    "client = MongoClient('mongodb://localhost:9000')\n"
   ]
  },
  {
   "cell_type": "code",
   "execution_count": null,
   "id": "15f9a881",
   "metadata": {},
   "outputs": [],
   "source": [
    "db = client['joebidentweet']\n",
    "collection = db['tweet']\n"
   ]
  },
  {
   "cell_type": "code",
   "execution_count": null,
   "id": "f471003a",
   "metadata": {},
   "outputs": [],
   "source": [
    "csv_file = 'JoeBidenTweets.csv'  # Path to your CSV file\n",
    "\n",
    "with open(csv_file, 'r') as file:\n",
    "    reader = csv.DictReader(file)\n",
    "    for row in reader:\n",
    "        # Insert each row into the MongoDB collection\n",
    "        collection.insert_one(row)\n"
   ]
  },
  {
   "cell_type": "code",
   "execution_count": null,
   "id": "3f94088c",
   "metadata": {},
   "outputs": [],
   "source": []
  }
 ],
 "metadata": {
  "kernelspec": {
   "display_name": "Python 3 (ipykernel)",
   "language": "python",
   "name": "python3"
  },
  "language_info": {
   "codemirror_mode": {
    "name": "ipython",
    "version": 3
   },
   "file_extension": ".py",
   "mimetype": "text/x-python",
   "name": "python",
   "nbconvert_exporter": "python",
   "pygments_lexer": "ipython3",
   "version": "3.10.6"
  }
 },
 "nbformat": 4,
 "nbformat_minor": 5
}
