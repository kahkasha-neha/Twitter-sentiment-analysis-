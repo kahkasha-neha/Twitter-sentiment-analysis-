{
 "cells": [
  {
   "cell_type": "markdown",
   "id": "a0440b98",
   "metadata": {},
   "source": [
    "# Downloading the pyspark dataset"
   ]
  },
  {
   "cell_type": "code",
   "execution_count": 9,
   "id": "15b9a647",
   "metadata": {},
   "outputs": [
    {
     "data": {
      "text/plain": [
       "Row(id='361388562', timestamp='2007-10-24 22:45', url='https://twitter.com/JoeBiden/status/361388562', tweet='Tune in 11:30 ET tomorrow for a live webcast of Families USA Presidential Forum on health care: http://presidentialforums.health08.org/', replies='19', retweets='5', quotes='17', likes='11')"
      ]
     },
     "execution_count": 9,
     "metadata": {},
     "output_type": "execute_result"
    }
   ],
   "source": [
    "tweets_df = spark.read.csv('/user1/JoeBidenTweets.csv', header=True, inferSchema=True)\n",
    "tweets_df.head()"
   ]
  },
  {
   "cell_type": "markdown",
   "id": "9a60fb5f",
   "metadata": {},
   "source": [
    "# Getting the tweets with maximum tweets"
   ]
  },
  {
   "cell_type": "code",
   "execution_count": 10,
   "id": "656c3b01",
   "metadata": {},
   "outputs": [
    {
     "name": "stdout",
     "output_type": "stream",
     "text": [
      "+-------------------+----------------+--------------------+--------------------+-------+--------+------+-----+\n",
      "|                 id|       timestamp|                 url|               tweet|replies|retweets|quotes|likes|\n",
      "+-------------------+----------------+--------------------+--------------------+-------+--------+------+-----+\n",
      "|1149155853095919616|2019-07-11 03:18|https://twitter.c...|Today, we celebra...|     70|     174|    10|  999|\n",
      "+-------------------+----------------+--------------------+--------------------+-------+--------+------+-----+\n",
      "\n"
     ]
    }
   ],
   "source": [
    "# Create a temporary view of the DataFrame\n",
    "tweets_df.createOrReplaceTempView(\"tweets\")\n",
    "\n",
    "# Write the SQL query to find the tweet with maximum likes\n",
    "result = spark.sql(\"SELECT * FROM tweets WHERE likes = (SELECT MAX(likes) FROM tweets)\")\n",
    "\n",
    "# View the query result\n",
    "result.show()\n"
   ]
  },
  {
   "cell_type": "markdown",
   "id": "9370e000",
   "metadata": {},
   "source": [
    "# Getting top five liked tweets"
   ]
  },
  {
   "cell_type": "code",
   "execution_count": 11,
   "id": "94056122",
   "metadata": {},
   "outputs": [
    {
     "name": "stdout",
     "output_type": "stream",
     "text": [
      "+-------------------+----------------+--------------------+--------------------+-------+--------+------+-----+\n",
      "|                 id|       timestamp|                 url|               tweet|replies|retweets|quotes|likes|\n",
      "+-------------------+----------------+--------------------+--------------------+-------+--------+------+-----+\n",
      "|1149155853095919616|2019-07-11 03:18|https://twitter.c...|Today, we celebra...|     70|     174|    10|  999|\n",
      "|1144700495807881223|2019-06-28 20:14|https://twitter.c...|I’ve fought my he...|   1435|    1772|   199| 9984|\n",
      "| 864879534096629760|2017-05-17 16:25|https://twitter.c...|LGBT rights are h...|    247|    2995|   157| 9980|\n",
      "|1243255073817460741|2020-03-26 19:14|https://twitter.c...|Live from our hom...|    537|    2290|    66| 9975|\n",
      "| 958553443429478400|2018-01-31 04:12|https://twitter.c...|Proud to call you...|   1480|   18794|   513|99747|\n",
      "+-------------------+----------------+--------------------+--------------------+-------+--------+------+-----+\n",
      "\n"
     ]
    }
   ],
   "source": [
    "# Create a temporary view of the DataFrame\n",
    "tweets_df.createOrReplaceTempView(\"tweets\")\n",
    "\n",
    "# Write the SQL query to get the top five tweets with maximum likes\n",
    "result = spark.sql(\"SELECT * FROM tweets ORDER BY likes DESC LIMIT 5\")\n",
    "\n",
    "# View the query result\n",
    "result.show()\n"
   ]
  },
  {
   "cell_type": "markdown",
   "id": "79ca65d3",
   "metadata": {},
   "source": [
    "# Some queries regarding the dataset"
   ]
  },
  {
   "cell_type": "code",
   "execution_count": 15,
   "id": "d8d82524",
   "metadata": {},
   "outputs": [
    {
     "name": "stdout",
     "output_type": "stream",
     "text": [
      "+------------------+----------------+--------------------+--------------------+-------+--------+------+-----+\n",
      "|                id|       timestamp|                 url|               tweet|replies|retweets|quotes|likes|\n",
      "+------------------+----------------+--------------------+--------------------+-------+--------+------+-----+\n",
      "|260911167852142592|2012-10-24 01:10|https://twitter.c...|“I’ve got news fo...|     96|     527|     1|  100|\n",
      "|263097044196028416|2012-10-30 01:56|https://twitter.c...|.@BarackObama and...|     54|     215|     1|  100|\n",
      "|456901642026508288|2014-04-17 21:06|https://twitter.c...|RT @TheDemocrats:...|     34|      87|     0|  100|\n",
      "|509016433851121665|2014-09-08 16:32|https://twitter.c...|Read the VP's op-...|     41|      83|     2|  100|\n",
      "+------------------+----------------+--------------------+--------------------+-------+--------+------+-----+\n",
      "\n",
      "+------------+\n",
      "| total_likes|\n",
      "+------------+\n",
      "|1.51694453E8|\n",
      "+------------+\n",
      "\n",
      "+-------------------+----------------+--------------------+--------------------+-------+--------+------+-----+\n",
      "|                 id|       timestamp|                 url|               tweet|replies|retweets|quotes|likes|\n",
      "+-------------------+----------------+--------------------+--------------------+-------+--------+------+-----+\n",
      "|1149155853095919616|2019-07-11 03:18|https://twitter.c...|Today, we celebra...|     70|     174|    10|  999|\n",
      "|1144700495807881223|2019-06-28 20:14|https://twitter.c...|I’ve fought my he...|   1435|    1772|   199| 9984|\n",
      "| 864879534096629760|2017-05-17 16:25|https://twitter.c...|LGBT rights are h...|    247|    2995|   157| 9980|\n",
      "|1243255073817460741|2020-03-26 19:14|https://twitter.c...|Live from our hom...|    537|    2290|    66| 9975|\n",
      "| 958553443429478400|2018-01-31 04:12|https://twitter.c...|Proud to call you...|   1480|   18794|   513|99747|\n",
      "|1151926065310384133|2019-07-18 18:45|https://twitter.c...|Rebuilding Americ...|    113|     228|    13|  997|\n",
      "|1310670618795347970|2020-09-28 20:00|https://twitter.c...|President Trump c...|   4669|   20826|   763|99684|\n",
      "|1215808474501844992|2020-01-11 01:31|https://twitter.c...|Firefighters repr...|    272|    1735|    62| 9961|\n",
      "|1231615953198145536|2020-02-23 16:25|https://twitter.c...|There is nothing ...|    954|    1904|   175| 9960|\n",
      "|1217275855401103360|2020-01-15 02:42|https://twitter.c...|If we don’t write...|     96|     255|    17|  996|\n",
      "|1154454908482945024|2019-07-25 18:14|https://twitter.c...|Governor @Ricardo...|     59|     211|    11|  995|\n",
      "|1144408605120245760|2019-06-28 00:54|https://twitter.c...|Hey everyone — @T...|    171|     153|    18|  995|\n",
      "| 841062645990072321|2017-03-12 23:05|https://twitter.c...|Jill and I were h...|    179|    1701|   117| 9945|\n",
      "|1216081341965590529|2020-01-11 19:36|https://twitter.c...|What kind of nati...|    891|    2540|   166| 9943|\n",
      "| 574315632818286593|2015-03-07 21:08|https://twitter.c...|Stand up for voti...|    267|     742|     9|  994|\n",
      "|1291869982196809728|2020-08-07 22:53|https://twitter.c...|I believe every A...|   6655|   18137|  1099|99128|\n",
      "|1194070842059214849|2019-11-12 01:54|https://twitter.c...|Looking forward t...|    187|     178|    16|  991|\n",
      "|1138511521800249344|2019-06-11 18:21|https://twitter.c...|Thank you for fol...|    110|     108|     6|  991|\n",
      "| 253571565919293440|2012-10-03 19:05|https://twitter.c...|“Keep the faith”:...|     23|     127|     2|   99|\n",
      "| 247364015905447937|2012-09-16 15:59|https://twitter.c...|“I’m in love with...|     24|     134|     2|   99|\n",
      "+-------------------+----------------+--------------------+--------------------+-------+--------+------+-----+\n",
      "only showing top 20 rows\n",
      "\n",
      "+------------+----------+\n",
      "|        word|word_count|\n",
      "+------------+----------+\n",
      "|       still|        98|\n",
      "|         few|        89|\n",
      "|        hope|        88|\n",
      "|        some|        70|\n",
      "|       those|       177|\n",
      "|   protect.”|         1|\n",
      "|       trail|        19|\n",
      "|      2012.’|         1|\n",
      "|   standards|         5|\n",
      "|  night—find|         1|\n",
      "|families—get|         1|\n",
      "|          By|         8|\n",
      "|   recognize|        20|\n",
      "|      #WHCD?|         1|\n",
      "|  \"\"\"There's|         2|\n",
      "|    recommit|        23|\n",
      "|    incoming|         1|\n",
      "|   viewpoint|         1|\n",
      "|      fight,|         3|\n",
      "|     persist|         1|\n",
      "+------------+----------+\n",
      "only showing top 20 rows\n",
      "\n"
     ]
    }
   ],
   "source": [
    "# Create a temporary view of the DataFrame\n",
    "tweets_df.createOrReplaceTempView(\"tweets\")\n",
    "\n",
    "# Perform queries using PySpark SQL\n",
    "# Example 1: Retrieve tweets with a specific number of likes\n",
    "query1 = \"\"\"\n",
    "SELECT * \n",
    "FROM tweets \n",
    "WHERE likes = 100\n",
    "\"\"\"\n",
    "\n",
    "result1 = spark.sql(query1)\n",
    "result1.show()\n",
    "\n",
    "# Example 2: Calculate the total number of likes\n",
    "query2 = \"\"\"\n",
    "SELECT SUM(likes) AS total_likes\n",
    "FROM tweets\n",
    "\"\"\"\n",
    "\n",
    "result2 = spark.sql(query2)\n",
    "result2.show()\n",
    "\n",
    "# Example 3: Sort tweets based on the number of likes\n",
    "query3 = \"\"\"\n",
    "SELECT *\n",
    "FROM tweets\n",
    "ORDER BY likes DESC\n",
    "\"\"\"\n",
    "\n",
    "result3 = spark.sql(query3)\n",
    "result3.show()\n",
    "\n",
    "\n",
    "\n",
    "# Example 5: Perform text analysis - count the occurrences of specific words\n",
    "query4 = \"\"\"\n",
    "SELECT word, COUNT(*) AS word_count\n",
    "FROM (\n",
    "    SELECT EXPLODE(SPLIT(tweet, ' ')) AS word\n",
    "    FROM tweets\n",
    ") temp\n",
    "GROUP BY word\n",
    "\"\"\"\n",
    "\n",
    "\n",
    "query4 = spark.sql(query4)\n",
    "result4.show()\n"
   ]
  },
  {
   "cell_type": "code",
   "execution_count": null,
   "id": "401c54d4",
   "metadata": {},
   "outputs": [],
   "source": []
  },
  {
   "cell_type": "markdown",
   "id": "89265275",
   "metadata": {},
   "source": [
    "# Creating scemas with this dataset "
   ]
  },
  {
   "cell_type": "code",
   "execution_count": 5,
   "id": "18cae3fb",
   "metadata": {},
   "outputs": [],
   "source": [
    "from pyspark.sql.types import StructType, StructField, StringType, IntegerType\n",
    "\n",
    "# Define the schema for the DataFrame\n",
    "schema = StructType([\n",
    "    StructField(\"id\", StringType(), nullable=True),\n",
    "    StructField(\"tweet\", StringType(), nullable=True),\n",
    "    StructField(\"url\", StringType(), nullable=True),\n",
    "    \n",
    "    StructField(\"replies\", IntegerType(), nullable=True),\n",
    "    StructField(\"quotes\", IntegerType(), nullable=True),\n",
    "    StructField(\"retweets\", IntegerType(), nullable=True)\n",
    "])\n",
    "\n",
    "# Apply the schema to the DataFrame\n",
    "tweets_df = spark.read.csv('/user1/JoeBidenTweets.csv', header=True, schema=schema)\n"
   ]
  },
  {
   "cell_type": "code",
   "execution_count": 6,
   "id": "e9851413",
   "metadata": {},
   "outputs": [
    {
     "name": "stdout",
     "output_type": "stream",
     "text": [
      "+------------------+----------------+--------------------+-------+------+--------+\n",
      "|                id|           tweet|                 url|replies|quotes|retweets|\n",
      "+------------------+----------------+--------------------+-------+------+--------+\n",
      "|         361388562|2007-10-24 22:45|https://twitter.c...|   null|    19|       5|\n",
      "|         543984392|2007-12-29 15:35|https://twitter.c...|   null|    13|      16|\n",
      "|189287227321356289|2012-04-09 09:42|https://twitter.c...|   null|    21|      82|\n",
      "|189287350034104320|2012-04-09 09:43|https://twitter.c...|   null|   144|      76|\n",
      "|189339650610036736|2012-04-09 13:11|https://twitter.c...|   null|    10|      54|\n",
      "|189343279140184065|2012-04-09 13:25|https://twitter.c...|   null|    16|      52|\n",
      "|189383473717460992|2012-04-09 16:05|https://twitter.c...|   null|   114|     471|\n",
      "|189456416917032960|2012-04-09 20:55|https://twitter.c...|   null|    13|      29|\n",
      "|189712253187145728|2012-04-10 13:51|https://twitter.c...|   null|    21|     217|\n",
      "|189742771387637760|2012-04-10 15:52|https://twitter.c...|   null|     8|      21|\n",
      "|189773314288402432|2012-04-10 17:54|https://twitter.c...|   null|  null|      16|\n",
      "|189813040856825856|2012-04-10 20:32|https://twitter.c...|   null|    26|      26|\n",
      "|190129116622761984|2012-04-11 17:28|https://twitter.c...|   null|    18|      29|\n",
      "|190146175008112640|2012-04-11 18:35|https://twitter.c...|   null|     7|      11|\n",
      "|190172245975502848|2012-04-11 20:19|https://twitter.c...|   null|    28|     443|\n",
      "|190198707449372673|2012-04-11 22:04|https://twitter.c...|   null|     1|       8|\n",
      "|190221525117448192|2012-04-11 23:35|https://twitter.c...|   null|    25|      64|\n",
      "|190454419035398145|2012-04-12 15:00|https://twitter.c...|   null|    22|      89|\n",
      "|190468063236337664|2012-04-12 15:54|https://twitter.c...|   null|     5|      19|\n",
      "|190468245638221824|2012-04-12 15:55|https://twitter.c...|   null|     2|      12|\n",
      "+------------------+----------------+--------------------+-------+------+--------+\n",
      "only showing top 20 rows\n",
      "\n"
     ]
    },
    {
     "name": "stderr",
     "output_type": "stream",
     "text": [
      "2023-05-25 11:44:44,602 WARN csv.CSVHeaderChecker: Number of column in CSV header is not equal to number of fields in the schema:\n",
      " Header length: 8, schema size: 6\n",
      "CSV file: hdfs://localhost:9000/user1/JoeBidenTweets.csv\n"
     ]
    }
   ],
   "source": [
    "tweets_df.show()\n"
   ]
  },
  {
   "cell_type": "markdown",
   "id": "d5e30a2a",
   "metadata": {},
   "source": [
    "# Extracting hashtages"
   ]
  },
  {
   "cell_type": "code",
   "execution_count": 17,
   "id": "5aa8b121",
   "metadata": {},
   "outputs": [
    {
     "name": "stderr",
     "output_type": "stream",
     "text": [
      "\r",
      "[Stage 45:>                                                         (0 + 1) / 1]\r"
     ]
    },
    {
     "name": "stdout",
     "output_type": "stream",
     "text": [
      "+-----------+\n",
      "|    hashtag|\n",
      "+-----------+\n",
      "|BuffettRule|\n",
      "|BuffettRule|\n",
      "|BuffettRule|\n",
      "|     Exeter|\n",
      "|BuffettRule|\n",
      "|BuffettRule|\n",
      "|BuffettRule|\n",
      "|BuffettRule|\n",
      "|BuffettRule|\n",
      "|BuffettRule|\n",
      "|      Gen44|\n",
      "|BuffettRule|\n",
      "|BuffettRule|\n",
      "|      Gen44|\n",
      "|Latinos2012|\n",
      "|      Gen44|\n",
      "|       VAWA|\n",
      "|       VAWA|\n",
      "|       VAWA|\n",
      "|  Obama2012|\n",
      "+-----------+\n",
      "only showing top 20 rows\n",
      "\n"
     ]
    },
    {
     "name": "stderr",
     "output_type": "stream",
     "text": [
      "\r",
      "                                                                                \r"
     ]
    }
   ],
   "source": [
    "from pyspark.sql import SparkSession\n",
    "from pyspark.sql.functions import udf\n",
    "from pyspark.sql.types import ArrayType, StringType\n",
    "import re\n",
    "\n",
    "# Create a SparkSession\n",
    "spark = SparkSession.builder.getOrCreate()\n",
    "\n",
    "# Load the dataset into a DataFrame\n",
    "df = spark.read.csv(\"/user1/JoeBidenTweets.csv\", header=True, inferSchema=True)\n",
    "\n",
    "# UDF for extracting hashtags\n",
    "def extract_hashtags(tweet):\n",
    "    hashtags = re.findall(r'#(\\w+)', tweet)\n",
    "    return hashtags\n",
    "\n",
    "# Register UDF\n",
    "extract_hashtags_udf = udf(extract_hashtags, ArrayType(StringType()))\n",
    "\n",
    "# Apply UDF to extract hashtags\n",
    "df_hashtags = df.select(explode(extract_hashtags_udf(\"tweet\")).alias(\"hashtag\"))\n",
    "\n",
    "# Show the extracted hashtags\n",
    "df_hashtags.show()\n"
   ]
  },
  {
   "cell_type": "code",
   "execution_count": null,
   "id": "cd85896a",
   "metadata": {},
   "outputs": [],
   "source": []
  },
  {
   "cell_type": "code",
   "execution_count": null,
   "id": "779dcc8f",
   "metadata": {},
   "outputs": [],
   "source": []
  },
  {
   "cell_type": "code",
   "execution_count": null,
   "id": "4388a4cf",
   "metadata": {},
   "outputs": [],
   "source": []
  }
 ],
 "metadata": {
  "kernelspec": {
   "display_name": "Python 3 (ipykernel)",
   "language": "python",
   "name": "python3"
  },
  "language_info": {
   "codemirror_mode": {
    "name": "ipython",
    "version": 3
   },
   "file_extension": ".py",
   "mimetype": "text/x-python",
   "name": "python",
   "nbconvert_exporter": "python",
   "pygments_lexer": "ipython3",
   "version": "3.10.6"
  }
 },
 "nbformat": 4,
 "nbformat_minor": 5
}
